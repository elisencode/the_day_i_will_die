{
 "cells": [
  {
   "cell_type": "code",
   "execution_count": 1,
   "id": "215d0000",
   "metadata": {},
   "outputs": [],
   "source": [
    "# Inspired by: <https://kk.org/ct2/my-life-countdown-1/>\n",
    "# <https://gist.github.com/hugs/140262>\n",
    "# Life expectancy date: "
   ]
  },
  {
   "cell_type": "code",
   "execution_count": 2,
   "id": "2273d419",
   "metadata": {},
   "outputs": [
    {
     "name": "stdout",
     "output_type": "stream",
     "text": [
      "Happy Coding!\n"
     ]
    }
   ],
   "source": [
    "print(\"Happy Coding!\")"
   ]
  },
  {
   "cell_type": "code",
   "execution_count": 3,
   "id": "f618419a",
   "metadata": {},
   "outputs": [],
   "source": [
    "# the_day_i_will_die_me.py"
   ]
  },
  {
   "cell_type": "code",
   "execution_count": 4,
   "id": "5b749a31",
   "metadata": {},
   "outputs": [],
   "source": [
    "from datetime import date, timedelta"
   ]
  },
  {
   "cell_type": "code",
   "execution_count": 5,
   "id": "8395518a",
   "metadata": {},
   "outputs": [
    {
     "name": "stdout",
     "output_type": "stream",
     "text": [
      "Enter your birth year, please: 1976\n",
      "Enter your birth month, please: 03\n",
      "Enter your birth day, please: 02\n",
      "1976-03-02\n"
     ]
    },
    {
     "data": {
      "text/plain": [
       "datetime.date"
      ]
     },
     "execution_count": 5,
     "metadata": {},
     "output_type": "execute_result"
    }
   ],
   "source": [
    "# birth_year = 1976\n",
    "# birth_date = date(1976,3,2)\n",
    "# life_expectancy = 76.09\n",
    "\n",
    "user_prompt_birth_year = \"Enter your birth year, please: \"\n",
    "birth_year = int(input(user_prompt_birth_year))\n",
    "\n",
    "user_prompt_birth_month = \"Enter your birth month, please: \"\n",
    "birth_month = int(input(user_prompt_birth_month))\n",
    "\n",
    "user_prompt_birth_day = \"Enter your birth day, please: \"\n",
    "birth_day = int(input(user_prompt_birth_day))\n",
    "\n",
    "birth_date = date(birth_year, birth_month, birth_day)\n",
    "print(birth_date)\n",
    "type(birth_date)\n"
   ]
  },
  {
   "cell_type": "code",
   "execution_count": 6,
   "id": "d0237780",
   "metadata": {},
   "outputs": [
    {
     "name": "stdout",
     "output_type": "stream",
     "text": [
      "Enter your life expectancy, please: 76.09\n",
      "76.09\n"
     ]
    },
    {
     "data": {
      "text/plain": [
       "float"
      ]
     },
     "execution_count": 6,
     "metadata": {},
     "output_type": "execute_result"
    }
   ],
   "source": [
    "user_prompt_life_expectancy = \"Enter your life expectancy, please: \"\n",
    "life_expectancy = float(input(user_prompt_life_expectancy))\n",
    "print(life_expectancy)\n",
    "type(life_expectancy)"
   ]
  },
  {
   "cell_type": "code",
   "execution_count": 7,
   "id": "565001ec",
   "metadata": {},
   "outputs": [
    {
     "name": "stdout",
     "output_type": "stream",
     "text": [
      "76\n"
     ]
    },
    {
     "data": {
      "text/plain": [
       "int"
      ]
     },
     "execution_count": 7,
     "metadata": {},
     "output_type": "execute_result"
    }
   ],
   "source": [
    "life_years = int(round(life_expectancy))\n",
    "print(life_years)\n",
    "type(life_years)"
   ]
  },
  {
   "cell_type": "code",
   "execution_count": 8,
   "id": "5347553c",
   "metadata": {},
   "outputs": [
    {
     "name": "stdout",
     "output_type": "stream",
     "text": [
      "2052\n"
     ]
    },
    {
     "data": {
      "text/plain": [
       "int"
      ]
     },
     "execution_count": 8,
     "metadata": {},
     "output_type": "execute_result"
    }
   ],
   "source": [
    "death_year = birth_year + life_years\n",
    "print(death_year)\n",
    "type(death_year)"
   ]
  },
  {
   "cell_type": "code",
   "execution_count": 9,
   "id": "773de247",
   "metadata": {},
   "outputs": [
    {
     "name": "stdout",
     "output_type": "stream",
     "text": [
      "time.struct_time(tm_year=1976, tm_mon=3, tm_mday=2, tm_hour=0, tm_min=0, tm_sec=0, tm_wday=1, tm_yday=62, tm_isdst=-1)\n"
     ]
    },
    {
     "data": {
      "text/plain": [
       "time.struct_time"
      ]
     },
     "execution_count": 9,
     "metadata": {},
     "output_type": "execute_result"
    }
   ],
   "source": [
    "birth_date_day_of_year = birth_date.timetuple()\n",
    "print(birth_date_day_of_year)\n",
    "type(birth_date_day_of_year)"
   ]
  },
  {
   "cell_type": "code",
   "execution_count": 10,
   "id": "ff3d5a99",
   "metadata": {},
   "outputs": [
    {
     "name": "stdout",
     "output_type": "stream",
     "text": [
      "62\n"
     ]
    },
    {
     "data": {
      "text/plain": [
       "int"
      ]
     },
     "execution_count": 10,
     "metadata": {},
     "output_type": "execute_result"
    }
   ],
   "source": [
    "birth_date_day_of_year = birth_date.timetuple()[7]\n",
    "print(birth_date_day_of_year)\n",
    "type(birth_date_day_of_year)"
   ]
  },
  {
   "cell_type": "code",
   "execution_count": 11,
   "id": "b25a0e94",
   "metadata": {},
   "outputs": [
    {
     "name": "stdout",
     "output_type": "stream",
     "text": [
      "0.09000000000000341\n"
     ]
    },
    {
     "data": {
      "text/plain": [
       "float"
      ]
     },
     "execution_count": 11,
     "metadata": {},
     "output_type": "execute_result"
    }
   ],
   "source": [
    "percent_of_last_year = life_expectancy % 1\n",
    "print(percent_of_last_year)\n",
    "type(percent_of_last_year)"
   ]
  },
  {
   "cell_type": "code",
   "execution_count": 12,
   "id": "523cc30d",
   "metadata": {},
   "outputs": [
    {
     "name": "stdout",
     "output_type": "stream",
     "text": [
      "94 days, 20:24:00\n"
     ]
    },
    {
     "data": {
      "text/plain": [
       "datetime.timedelta"
      ]
     },
     "execution_count": 12,
     "metadata": {},
     "output_type": "execute_result"
    }
   ],
   "source": [
    "days = birth_date_day_of_year + percent_of_last_year * 365\n",
    "days_to_live_in_last_year = timedelta(days)\n",
    "print(days_to_live_in_last_year)\n",
    "type(days_to_live_in_last_year)"
   ]
  },
  {
   "cell_type": "code",
   "execution_count": 13,
   "id": "6b4a1524",
   "metadata": {},
   "outputs": [
    {
     "name": "stdout",
     "output_type": "stream",
     "text": [
      "2052-04-03\n"
     ]
    },
    {
     "data": {
      "text/plain": [
       "datetime.date"
      ]
     },
     "execution_count": 13,
     "metadata": {},
     "output_type": "execute_result"
    }
   ],
   "source": [
    "# Start from dec 31 to avoid off-by-one error\n",
    "the_day_i_will_die = date(death_year-1, 12, 31) + days_to_live_in_last_year\n",
    "print(the_day_i_will_die)\n",
    "type(the_day_i_will_die)"
   ]
  },
  {
   "cell_type": "code",
   "execution_count": 14,
   "id": "c7610388",
   "metadata": {},
   "outputs": [
    {
     "data": {
      "text/plain": [
       "'Wed Apr  3 00:00:00 2052'"
      ]
     },
     "execution_count": 14,
     "metadata": {},
     "output_type": "execute_result"
    }
   ],
   "source": [
    "the_day_i_will_die.ctime()"
   ]
  },
  {
   "cell_type": "code",
   "execution_count": 15,
   "id": "0669925e",
   "metadata": {},
   "outputs": [
    {
     "name": "stdout",
     "output_type": "stream",
     "text": [
      "17194\n"
     ]
    },
    {
     "data": {
      "text/plain": [
       "int"
      ]
     },
     "execution_count": 15,
     "metadata": {},
     "output_type": "execute_result"
    }
   ],
   "source": [
    "days_lived = (date.today() - birth_date).days\n",
    "print(days_lived)\n",
    "type(days_lived)"
   ]
  },
  {
   "cell_type": "code",
   "execution_count": 16,
   "id": "b1573565",
   "metadata": {},
   "outputs": [
    {
     "name": "stdout",
     "output_type": "stream",
     "text": [
      "10597\n"
     ]
    },
    {
     "data": {
      "text/plain": [
       "int"
      ]
     },
     "execution_count": 16,
     "metadata": {},
     "output_type": "execute_result"
    }
   ],
   "source": [
    "days_until_i_die = (the_day_i_will_die - date.today()).days\n",
    "print(days_until_i_die)\n",
    "type(days_until_i_die)"
   ]
  },
  {
   "cell_type": "code",
   "execution_count": 17,
   "id": "5e96ce5b",
   "metadata": {},
   "outputs": [
    {
     "name": "stdout",
     "output_type": "stream",
     "text": [
      "27791\n"
     ]
    },
    {
     "data": {
      "text/plain": [
       "int"
      ]
     },
     "execution_count": 17,
     "metadata": {},
     "output_type": "execute_result"
    }
   ],
   "source": [
    "total_days_i_will_live = (the_day_i_will_die - birth_date).days\n",
    "print(total_days_i_will_live)\n",
    "type(total_days_i_will_live)"
   ]
  },
  {
   "cell_type": "code",
   "execution_count": 18,
   "id": "b4f073ec",
   "metadata": {},
   "outputs": [
    {
     "name": "stdout",
     "output_type": "stream",
     "text": [
      "2014-03-18\n"
     ]
    },
    {
     "data": {
      "text/plain": [
       "datetime.date"
      ]
     },
     "execution_count": 18,
     "metadata": {},
     "output_type": "execute_result"
    }
   ],
   "source": [
    "mid_life_crisis = birth_date + timedelta(days = total_days_i_will_live / 2)\n",
    "print(mid_life_crisis)\n",
    "type(mid_life_crisis)"
   ]
  },
  {
   "cell_type": "code",
   "execution_count": 19,
   "id": "c61627bf",
   "metadata": {},
   "outputs": [
    {
     "data": {
      "text/plain": [
       "'Tue Mar 18 00:00:00 2014'"
      ]
     },
     "execution_count": 19,
     "metadata": {},
     "output_type": "execute_result"
    }
   ],
   "source": [
    "mid_life_crisis.ctime()"
   ]
  },
  {
   "cell_type": "code",
   "execution_count": null,
   "id": "185857a5",
   "metadata": {},
   "outputs": [],
   "source": []
  }
 ],
 "metadata": {
  "kernelspec": {
   "display_name": "example",
   "language": "python",
   "name": "example"
  },
  "language_info": {
   "codemirror_mode": {
    "name": "ipython",
    "version": 3
   },
   "file_extension": ".py",
   "mimetype": "text/x-python",
   "name": "python",
   "nbconvert_exporter": "python",
   "pygments_lexer": "ipython3",
   "version": "3.11.0"
  }
 },
 "nbformat": 4,
 "nbformat_minor": 5
}
